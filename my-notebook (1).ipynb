{
 "cells": [
  {
   "cell_type": "code",
   "execution_count": 23,
   "metadata": {},
   "outputs": [
    {
     "data": {
      "application/vnd.jupyter.widget-view+json": {
       "model_id": "14798a2b84bd40dda879c3294d38587b",
       "version_major": 2,
       "version_minor": 0
      },
      "text/plain": [
       "VBox()"
      ]
     },
     "metadata": {},
     "output_type": "display_data"
    },
    {
     "data": {
      "application/vnd.jupyter.widget-view+json": {
       "model_id": "",
       "version_major": 2,
       "version_minor": 0
      },
      "text/plain": [
       "FloatProgress(value=0.0, bar_style='info', description='Progress:', layout=Layout(height='25px', width='50%'),…"
      ]
     },
     "metadata": {},
     "output_type": "display_data"
    },
    {
     "name": "stdout",
     "output_type": "stream",
     "text": [
      "+--------------------+------+------+-----+-----------+------+-------+\n",
      "|             patient|height|weight|  BMI|cholesterol|sodium|glucose|\n",
      "+--------------------+------+------+-----+-----------+------+-------+\n",
      "|00c343e4-e4eb-4c6...|176.61|116.12|37.23|      163.0| 141.0|   83.0|\n",
      "|00eec485-f89d-472...| 172.3| 94.04|31.68|      207.0| 140.0|  116.0|\n",
      "|017299f2-de8f-43a...|177.38|135.75|43.15|      161.0| 139.0|   72.0|\n",
      "|018dd53e-4b90-41c...|163.33|136.74|51.26|      162.0| 143.0|   71.0|\n",
      "|0190ce14-8897-495...| 161.1| 72.92| 28.1|      196.0| 137.0|   75.0|\n",
      "|01e7a88d-34ac-494...|173.35|105.97|35.27|      169.0| 143.0|   85.0|\n",
      "|01f649ca-232e-4c1...|151.11|102.05|44.69|      199.0| 140.0|   94.0|\n",
      "|0216c768-a4c0-46a...|169.24| 96.32|33.63|      197.0| 140.0|   64.0|\n",
      "|023230b8-01ca-4d3...|157.84| 92.49|37.13|      179.0| 142.0|   88.0|\n",
      "|02357156-a39f-45f...|185.33|109.37|31.84|      173.0| 143.0|   74.0|\n",
      "|0259aa6f-d531-43f...|163.33|100.15|37.54|      233.0| 140.0|  100.0|\n",
      "|029f2ed6-60a0-4d4...|170.46|111.64|38.42|      171.0| 144.0|   90.0|\n",
      "|02b97303-7790-40e...|170.45|112.29|38.65|      199.0| 144.0|   78.0|\n",
      "|030c04eb-d2db-44b...|166.01|  92.5|33.56|      178.0| 143.0|   72.0|\n",
      "|0319573e-be76-493...|175.46| 92.34|29.99|      160.0| 141.0|   98.0|\n",
      "|032a3bbb-f3f9-49a...|173.81|108.56|35.93|      172.0| 139.0|   71.0|\n",
      "|032b06a5-c22c-496...|162.92|102.96|38.79|      200.0| 143.0|   77.0|\n",
      "|033314e0-a85b-4a2...|166.72| 76.58|27.55|      182.0| 139.0|   99.0|\n",
      "|03644540-9e63-4cb...|181.81|122.25|36.98|      169.0| 142.0|   94.0|\n",
      "|03745294-8bba-414...|170.52| 96.17|33.08|      185.0| 143.0|   81.0|\n",
      "+--------------------+------+------+-----+-----------+------+-------+\n",
      "only showing top 20 rows"
     ]
    }
   ],
   "source": [
    "bucket_file = \"s3://ms-syntheamass-1m-mldata/syntheamassCSV/patient_info2/observations.csv\"\n",
    "\n",
    "data = spark.read.format(\"csv\").option(\"inferSchema\", True).option(\"header\", False).load(bucket_file)\n",
    "data.createOrReplaceTempView(\"data\")\n",
    "data = spark.sql(\"\"\"\n",
    "select _c0 as patient,\n",
    "_c1 as height, _c2 as weight, _c3 as BMI, _c4 as cholesterol,\n",
    "_c5 as sodium, _c6 as glucose\n",
    "from data\"\"\")\n",
    "\n",
    "data.show()"
   ]
  },
  {
   "cell_type": "code",
   "execution_count": 24,
   "metadata": {},
   "outputs": [
    {
     "data": {
      "application/vnd.jupyter.widget-view+json": {
       "model_id": "8e2c9044ee45498596a4906aa644c668",
       "version_major": 2,
       "version_minor": 0
      },
      "text/plain": [
       "VBox()"
      ]
     },
     "metadata": {},
     "output_type": "display_data"
    },
    {
     "data": {
      "application/vnd.jupyter.widget-view+json": {
       "model_id": "",
       "version_major": 2,
       "version_minor": 0
      },
      "text/plain": [
       "FloatProgress(value=0.0, bar_style='info', description='Progress:', layout=Layout(height='25px', width='50%'),…"
      ]
     },
     "metadata": {},
     "output_type": "display_data"
    },
    {
     "name": "stdout",
     "output_type": "stream",
     "text": [
      "+------+------+-----+-----------+------+-------+-------+\n",
      "|height|weight|  BMI|cholesterol|sodium|glucose|     ID|\n",
      "+------+------+-----+-----------+------+-------+-------+\n",
      "|176.61|116.12|37.23|      163.0| 141.0|   83.0|21687.0|\n",
      "| 172.3| 94.04|31.68|      207.0| 140.0|  116.0|12249.0|\n",
      "|177.38|135.75|43.15|      161.0| 139.0|   72.0|28222.0|\n",
      "|163.33|136.74|51.26|      162.0| 143.0|   71.0| 5018.0|\n",
      "| 161.1| 72.92| 28.1|      196.0| 137.0|   75.0|23116.0|\n",
      "|173.35|105.97|35.27|      169.0| 143.0|   85.0|10539.0|\n",
      "|151.11|102.05|44.69|      199.0| 140.0|   94.0|13891.0|\n",
      "|169.24| 96.32|33.63|      197.0| 140.0|   64.0| 4396.0|\n",
      "|157.84| 92.49|37.13|      179.0| 142.0|   88.0|24275.0|\n",
      "|185.33|109.37|31.84|      173.0| 143.0|   74.0|21453.0|\n",
      "|163.33|100.15|37.54|      233.0| 140.0|  100.0|17018.0|\n",
      "|170.46|111.64|38.42|      171.0| 144.0|   90.0|29378.0|\n",
      "|170.45|112.29|38.65|      199.0| 144.0|   78.0| 9794.0|\n",
      "|166.01|  92.5|33.56|      178.0| 143.0|   72.0|30135.0|\n",
      "|175.46| 92.34|29.99|      160.0| 141.0|   98.0|29460.0|\n",
      "|173.81|108.56|35.93|      172.0| 139.0|   71.0|15720.0|\n",
      "|162.92|102.96|38.79|      200.0| 143.0|   77.0|23009.0|\n",
      "|166.72| 76.58|27.55|      182.0| 139.0|   99.0|17764.0|\n",
      "|181.81|122.25|36.98|      169.0| 142.0|   94.0|17752.0|\n",
      "|170.52| 96.17|33.08|      185.0| 143.0|   81.0|22429.0|\n",
      "+------+------+-----+-----------+------+-------+-------+\n",
      "only showing top 20 rows"
     ]
    }
   ],
   "source": [
    "from pyspark.ml.feature import StringIndexer\n",
    "\n",
    "indexer = StringIndexer(inputCol=\"patient\", outputCol=\"ID\")\n",
    "indexed = indexer.fit(data).transform(data)\n",
    "\n",
    "indexed = indexed.drop(\"patient\")\n",
    "indexed.show()\n"
   ]
  },
  {
   "cell_type": "code",
   "execution_count": 25,
   "metadata": {},
   "outputs": [
    {
     "data": {
      "application/vnd.jupyter.widget-view+json": {
       "model_id": "b8b487618f834e109169f376e78036f4",
       "version_major": 2,
       "version_minor": 0
      },
      "text/plain": [
       "VBox()"
      ]
     },
     "metadata": {},
     "output_type": "display_data"
    },
    {
     "data": {
      "application/vnd.jupyter.widget-view+json": {
       "model_id": "",
       "version_major": 2,
       "version_minor": 0
      },
      "text/plain": [
       "FloatProgress(value=0.0, bar_style='info', description='Progress:', layout=Layout(height='25px', width='50%'),…"
      ]
     },
     "metadata": {},
     "output_type": "display_data"
    },
    {
     "name": "stdout",
     "output_type": "stream",
     "text": [
      "+-----------------------------------------------+\n",
      "|features                                       |\n",
      "+-----------------------------------------------+\n",
      "|[21687.0,176.61,116.12,37.23,163.0,141.0,83.0] |\n",
      "|[12249.0,172.3,94.04,31.68,207.0,140.0,116.0]  |\n",
      "|[28222.0,177.38,135.75,43.15,161.0,139.0,72.0] |\n",
      "|[5018.0,163.33,136.74,51.26,162.0,143.0,71.0]  |\n",
      "|[23116.0,161.1,72.92,28.1,196.0,137.0,75.0]    |\n",
      "|[10539.0,173.35,105.97,35.27,169.0,143.0,85.0] |\n",
      "|[13891.0,151.11,102.05,44.69,199.0,140.0,94.0] |\n",
      "|[4396.0,169.24,96.32,33.63,197.0,140.0,64.0]   |\n",
      "|[24275.0,157.84,92.49,37.13,179.0,142.0,88.0]  |\n",
      "|[21453.0,185.33,109.37,31.84,173.0,143.0,74.0] |\n",
      "|[17018.0,163.33,100.15,37.54,233.0,140.0,100.0]|\n",
      "|[29378.0,170.46,111.64,38.42,171.0,144.0,90.0] |\n",
      "|[9794.0,170.45,112.29,38.65,199.0,144.0,78.0]  |\n",
      "|[30135.0,166.01,92.5,33.56,178.0,143.0,72.0]   |\n",
      "|[29460.0,175.46,92.34,29.99,160.0,141.0,98.0]  |\n",
      "|[15720.0,173.81,108.56,35.93,172.0,139.0,71.0] |\n",
      "|[23009.0,162.92,102.96,38.79,200.0,143.0,77.0] |\n",
      "|[17764.0,166.72,76.58,27.55,182.0,139.0,99.0]  |\n",
      "|[17752.0,181.81,122.25,36.98,169.0,142.0,94.0] |\n",
      "|[22429.0,170.52,96.17,33.08,185.0,143.0,81.0]  |\n",
      "+-----------------------------------------------+\n",
      "only showing top 20 rows"
     ]
    }
   ],
   "source": [
    "# creating a vector of features for each row\n",
    "from pyspark.ml.feature import VectorAssembler\n",
    "\n",
    "features = ('ID', 'height', 'weight', 'BMI', 'cholesterol', 'sodium', 'glucose')\n",
    "\n",
    "assembler = VectorAssembler(inputCols=features, outputCol = \"features\")\n",
    "\n",
    "raw_data = assembler.transform(indexed)\n",
    "raw_data.select(\"features\").show(truncate = False)"
   ]
  },
  {
   "cell_type": "code",
   "execution_count": 30,
   "metadata": {},
   "outputs": [
    {
     "data": {
      "application/vnd.jupyter.widget-view+json": {
       "model_id": "67531dd7de8a4462b0f5498bc9677484",
       "version_major": 2,
       "version_minor": 0
      },
      "text/plain": [
       "VBox()"
      ]
     },
     "metadata": {},
     "output_type": "display_data"
    },
    {
     "data": {
      "application/vnd.jupyter.widget-view+json": {
       "model_id": "",
       "version_major": 2,
       "version_minor": 0
      },
      "text/plain": [
       "FloatProgress(value=0.0, bar_style='info', description='Progress:', layout=Layout(height='25px', width='50%'),…"
      ]
     },
     "metadata": {},
     "output_type": "display_data"
    },
    {
     "name": "stdout",
     "output_type": "stream",
     "text": [
      "+--------------------+\n",
      "|     scaled_features|\n",
      "+--------------------+\n",
      "|[2.47080205020966...|\n",
      "|[1.39552977880842...|\n",
      "|[3.21533524512460...|\n",
      "|[0.57170123520782...|\n",
      "|[2.63360816123238...|\n",
      "+--------------------+\n",
      "only showing top 5 rows"
     ]
    }
   ],
   "source": [
    "# scaling the feature vectors and creating a column with the output\n",
    "from pyspark.ml.feature import StandardScaler\n",
    "\n",
    "standardscaler = StandardScaler().setInputCol(\"features\").setOutputCol(\"scaled_features\")\n",
    "\n",
    "raw_data = standardscaler.fit(raw_data).transform(raw_data)\n",
    "raw_data.select(\"scaled_features\").show(5, truncate = True)"
   ]
  },
  {
   "cell_type": "code",
   "execution_count": 11,
   "metadata": {},
   "outputs": [
    {
     "data": {
      "application/vnd.jupyter.widget-view+json": {
       "model_id": "f2f32f3cd3964cc2895951ebc60c283e",
       "version_major": 2,
       "version_minor": 0
      },
      "text/plain": [
       "VBox()"
      ]
     },
     "metadata": {},
     "output_type": "display_data"
    },
    {
     "data": {
      "application/vnd.jupyter.widget-view+json": {
       "model_id": "",
       "version_major": 2,
       "version_minor": 0
      },
      "text/plain": [
       "FloatProgress(value=0.0, bar_style='info', description='Progress:', layout=Layout(height='25px', width='50%'),…"
      ]
     },
     "metadata": {},
     "output_type": "display_data"
    }
   ],
   "source": [
    "# training the k-means model using the scaled features column\n",
    "from pyspark.ml.clustering import KMeans\n",
    "\n",
    "kmeans = KMeans(featuresCol = \"scaled_features\").setK(5).setSeed(1)\n",
    "model = kmeans.fit(raw_data)\n",
    "\n"
   ]
  },
  {
   "cell_type": "code",
   "execution_count": null,
   "metadata": {},
   "outputs": [],
   "source": [
    "# performing the k-means clustering job\n",
    "predictions = model.transform(raw_data)"
   ]
  },
  {
   "cell_type": "code",
   "execution_count": 33,
   "metadata": {},
   "outputs": [
    {
     "data": {
      "application/vnd.jupyter.widget-view+json": {
       "model_id": "1520032ec4c6446893e8815deb99202c",
       "version_major": 2,
       "version_minor": 0
      },
      "text/plain": [
       "VBox()"
      ]
     },
     "metadata": {},
     "output_type": "display_data"
    },
    {
     "data": {
      "application/vnd.jupyter.widget-view+json": {
       "model_id": "",
       "version_major": 2,
       "version_minor": 0
      },
      "text/plain": [
       "FloatProgress(value=0.0, bar_style='info', description='Progress:', layout=Layout(height='25px', width='50%'),…"
      ]
     },
     "metadata": {},
     "output_type": "display_data"
    },
    {
     "name": "stdout",
     "output_type": "stream",
     "text": [
      "+----------+-----------------+\n",
      "|prediction|count(prediction)|\n",
      "+----------+-----------------+\n",
      "|         1|             8296|\n",
      "|         3|             2600|\n",
      "|         4|             5203|\n",
      "|         2|             6372|\n",
      "|         0|             7934|\n",
      "+----------+-----------------+"
     ]
    }
   ],
   "source": [
    "# listing the number of data points in each cluster\n",
    "clusters = predictions.select(\"prediction\")\n",
    "clusters.groupby(\"prediction\").agg({'prediction': 'count'}).show()"
   ]
  },
  {
   "cell_type": "code",
   "execution_count": 34,
   "metadata": {},
   "outputs": [
    {
     "data": {
      "application/vnd.jupyter.widget-view+json": {
       "model_id": "f052ff8c8ae444df95a713610862528b",
       "version_major": 2,
       "version_minor": 0
      },
      "text/plain": [
       "VBox()"
      ]
     },
     "metadata": {},
     "output_type": "display_data"
    },
    {
     "data": {
      "application/vnd.jupyter.widget-view+json": {
       "model_id": "",
       "version_major": 2,
       "version_minor": 0
      },
      "text/plain": [
       "FloatProgress(value=0.0, bar_style='info', description='Progress:', layout=Layout(height='25px', width='50%'),…"
      ]
     },
     "metadata": {},
     "output_type": "display_data"
    },
    {
     "name": "stdout",
     "output_type": "stream",
     "text": [
      "+----------+-----------------+\n",
      "|prediction|count(prediction)|\n",
      "+----------+-----------------+\n",
      "|         1|             8430|\n",
      "|         3|             5189|\n",
      "|         4|             3010|\n",
      "|         2|             4951|\n",
      "|         0|             8825|\n",
      "+----------+-----------------+"
     ]
    }
   ],
   "source": [
    "# performing a heirarchical clustering job\n",
    "\n",
    "from pyspark.ml.clustering import BisectingKMeans\n",
    "\n",
    "# training the model\n",
    "bkm = BisectingKMeans(featuresCol=\"scaled_features\").setK(5).setSeed(1)\n",
    "model = bkm.fit(raw_data)\n",
    "\n",
    "# creating predictions \n",
    "predictions_b = model.transform(raw_data)\n",
    "\n",
    "# listing the number of points in each cluster\n",
    "cm = predictions_b.select(\"prediction\")\n",
    "cm.groupby(\"prediction\").agg({'prediction': 'count'}).show()"
   ]
  },
  {
   "cell_type": "code",
   "execution_count": 35,
   "metadata": {},
   "outputs": [
    {
     "data": {
      "application/vnd.jupyter.widget-view+json": {
       "model_id": "432e0615157e45d5a926e9884fa7859c",
       "version_major": 2,
       "version_minor": 0
      },
      "text/plain": [
       "VBox()"
      ]
     },
     "metadata": {},
     "output_type": "display_data"
    },
    {
     "data": {
      "application/vnd.jupyter.widget-view+json": {
       "model_id": "",
       "version_major": 2,
       "version_minor": 0
      },
      "text/plain": [
       "FloatProgress(value=0.0, bar_style='info', description='Progress:', layout=Layout(height='25px', width='50%'),…"
      ]
     },
     "metadata": {},
     "output_type": "display_data"
    },
    {
     "name": "stdout",
     "output_type": "stream",
     "text": [
      "K-means silhouette with squared euclidean distance = -0.131598264118536 \n",
      " \n",
      "        Hierarchical silhouette with squared euclidean distance = -0.23110782587064593"
     ]
    }
   ],
   "source": [
    "from pyspark.ml.evaluation import ClusteringEvaluator\n",
    "\n",
    "# Make predictions\n",
    "\n",
    "\n",
    "#Evaluate using Silhouette score\n",
    "evaluator = ClusteringEvaluator()\n",
    "\n",
    "silhouette_k = evaluator.evaluate(predictions)\n",
    "silhouette_h = evaluator.evaluate(predictions_b)\n",
    "print(f\"\"\"K-means silhouette with squared euclidean distance = {str(silhouette_k)} \\n \n",
    "    Hierarchical silhouette with squared euclidean distance = {str(silhouette_h)}\"\"\")"
   ]
  },
  {
   "cell_type": "code",
   "execution_count": 1,
   "metadata": {},
   "outputs": [
    {
     "data": {
      "application/vnd.jupyter.widget-view+json": {
       "model_id": "3dd6780bd7a3480ba7546bc9ddd8158b",
       "version_major": 2,
       "version_minor": 0
      },
      "text/plain": [
       "VBox()"
      ]
     },
     "metadata": {},
     "output_type": "display_data"
    },
    {
     "name": "stdout",
     "output_type": "stream",
     "text": [
      "Starting Spark application\n"
     ]
    },
    {
     "data": {
      "text/html": [
       "<table>\n",
       "<tr><th>ID</th><th>YARN Application ID</th><th>Kind</th><th>State</th><th>Spark UI</th><th>Driver log</th><th>Current session?</th></tr><tr><td>3</td><td>application_1596028402588_0004</td><td>pyspark</td><td>idle</td><td><a target=\"_blank\" href=\"http://ip-172-31-14-125.ec2.internal:20888/proxy/application_1596028402588_0004/\">Link</a></td><td><a target=\"_blank\" href=\"http://ip-172-31-14-125.ec2.internal:8042/node/containerlogs/container_1596028402588_0004_01_000001/livy\">Link</a></td><td>✔</td></tr></table>"
      ],
      "text/plain": [
       "<IPython.core.display.HTML object>"
      ]
     },
     "metadata": {},
     "output_type": "display_data"
    },
    {
     "data": {
      "application/vnd.jupyter.widget-view+json": {
       "model_id": "",
       "version_major": 2,
       "version_minor": 0
      },
      "text/plain": [
       "FloatProgress(value=0.0, bar_style='info', description='Progress:', layout=Layout(height='25px', width='50%'),…"
      ]
     },
     "metadata": {},
     "output_type": "display_data"
    },
    {
     "name": "stdout",
     "output_type": "stream",
     "text": [
      "SparkSession available as 'spark'.\n"
     ]
    },
    {
     "data": {
      "application/vnd.jupyter.widget-view+json": {
       "model_id": "",
       "version_major": 2,
       "version_minor": 0
      },
      "text/plain": [
       "FloatProgress(value=0.0, bar_style='info', description='Progress:', layout=Layout(height='25px', width='50%'),…"
      ]
     },
     "metadata": {},
     "output_type": "display_data"
    }
   ],
   "source": [
    "# performing a similar cluster job with more variables including patient demographics\n",
    "\n",
    "bucket_file = \"s3://ms-syntheamass-1m-mldata/syntheamassCSV/patient_info2/patient_info_and_observations2.csv\"\n",
    "\n",
    "data2 = spark.read.format(\"csv\").option(\"inferSchema\", True).option(\"header\", False).load(bucket_file)\n",
    "data2.createOrReplaceTempView(\"data2\")\n",
    "data2 = spark.sql(\"\"\"\n",
    "select _c0 as patient,\n",
    "_c1 as height, _c2 as weight, _c3 as BMI, _c4 as cholesterol,\n",
    "_c5 as sodium, _c6 as birth_date, _c7 as marital, _c8 as race, \n",
    "_c9 as ethnicity\n",
    "from data2\"\"\")\n",
    "\n",
    "# data2.show()"
   ]
  },
  {
   "cell_type": "code",
   "execution_count": 2,
   "metadata": {},
   "outputs": [
    {
     "data": {
      "application/vnd.jupyter.widget-view+json": {
       "model_id": "b3fe1ec789574011811bed0de3f19914",
       "version_major": 2,
       "version_minor": 0
      },
      "text/plain": [
       "VBox()"
      ]
     },
     "metadata": {},
     "output_type": "display_data"
    },
    {
     "data": {
      "application/vnd.jupyter.widget-view+json": {
       "model_id": "",
       "version_major": 2,
       "version_minor": 0
      },
      "text/plain": [
       "FloatProgress(value=0.0, bar_style='info', description='Progress:', layout=Layout(height='25px', width='50%'),…"
      ]
     },
     "metadata": {},
     "output_type": "display_data"
    },
    {
     "name": "stdout",
     "output_type": "stream",
     "text": [
      "+-------+------+------+-----+------+-------------------+---------------+-----------------+------------+\n",
      "|     ID|height|weight|  BMI|sodium|         birth_date|indexed_marital|indexed_ethnicity|indexed_race|\n",
      "+-------+------+------+-----+------+-------------------+---------------+-----------------+------------+\n",
      "|12200.0| 172.3| 94.04|31.68| 140.0|1959-06-24 00:00:00|            0.0|              3.0|         1.0|\n",
      "|28107.0|177.38|135.75|43.15| 139.0|1963-12-03 00:00:00|            1.0|              1.0|         0.0|\n",
      "| 4998.0|163.33|136.74|51.26| 143.0|1955-11-19 00:00:00|            0.0|              0.0|         0.0|\n",
      "|23024.0| 161.1| 72.92| 28.1| 137.0|1939-03-17 00:00:00|            0.0|              0.0|         0.0|\n",
      "|10498.0|173.35|105.97|35.27| 143.0|1958-03-09 00:00:00|            1.0|              6.0|         3.0|\n",
      "|13838.0|151.11|102.05|44.69| 140.0|1965-10-17 00:00:00|            0.0|              9.0|         0.0|\n",
      "| 4376.0|169.24| 96.32|33.63| 140.0|1955-07-14 00:00:00|            0.0|              0.0|         0.0|\n",
      "|24175.0|157.84| 92.49|37.13| 142.0|1955-01-31 00:00:00|            1.0|              0.0|         0.0|\n",
      "|21366.0|185.33|109.37|31.84| 143.0|1962-11-21 00:00:00|            0.0|             18.0|         0.0|\n",
      "|16949.0|163.33|100.15|37.54| 140.0|1970-10-05 00:00:00|            1.0|              0.0|         0.0|\n",
      "|29260.0|170.46|111.64|38.42| 144.0|1948-08-03 00:00:00|            1.0|              0.0|         0.0|\n",
      "| 9754.0|170.45|112.29|38.65| 144.0|1958-09-27 00:00:00|            0.0|              0.0|         0.0|\n",
      "|30014.0|166.01|  92.5|33.56| 143.0|1961-10-30 00:00:00|            1.0|             14.0|         0.0|\n",
      "|29342.0|175.46| 92.34|29.99| 141.0|1952-07-28 00:00:00|            0.0|              5.0|         0.0|\n",
      "|15659.0|173.81|108.56|35.93| 139.0|1949-09-01 00:00:00|            1.0|             12.0|         2.0|\n",
      "|22918.0|162.92|102.96|38.79| 143.0|1954-02-05 00:00:00|            0.0|              1.0|         0.0|\n",
      "|17692.0|166.72| 76.58|27.55| 139.0|1982-01-29 00:00:00|            0.0|              0.0|         0.0|\n",
      "|17680.0|181.81|122.25|36.98| 142.0|1962-04-13 00:00:00|            0.0|             18.0|         0.0|\n",
      "|22339.0|170.52| 96.17|33.08| 143.0|1950-06-11 00:00:00|            0.0|              5.0|         0.0|\n",
      "| 4306.0|179.26|107.07|33.32| 144.0|1974-05-03 00:00:00|            0.0|              3.0|         1.0|\n",
      "+-------+------+------+-----+------+-------------------+---------------+-----------------+------------+\n",
      "only showing top 20 rows"
     ]
    }
   ],
   "source": [
    "from pyspark.ml.feature import StringIndexer\n",
    "# inputs = [\"patient\", \"marital\", \"ethnicity\", \"race\"]\n",
    "# outputs = [\"ID\", \"indexed_marital\", \"indexed_ethnicity\", \"indexed_race\"]\n",
    "\n",
    "# drop rows with any missing values:\n",
    "data2 = data2.dropna()\n",
    "\n",
    "indexer = StringIndexer(inputCol=\"patient\", outputCol=\"ID\")\n",
    "indexed = indexer.fit(data2).transform(data2)\n",
    "\n",
    "indexer = StringIndexer(inputCol=\"marital\", outputCol=\"indexed_marital\")\n",
    "indexed = indexer.fit(indexed).transform(indexed)\n",
    "\n",
    "indexer = StringIndexer(inputCol=\"ethnicity\", outputCol=\"indexed_ethnicity\")\n",
    "indexed = indexer.fit(indexed).transform(indexed)\n",
    "\n",
    "indexer = StringIndexer(inputCol=\"race\", outputCol=\"indexed_race\")\n",
    "indexed = indexer.fit(indexed).transform(indexed)\n",
    "\n",
    "indexed.createOrReplaceTempView(\"indexed\")\n",
    "\n",
    "indexed = spark.sql(\"\"\"\n",
    "select ID, height, weight, BMI, sodium, birth_date, indexed_marital, indexed_ethnicity, indexed_race\n",
    "from indexed\n",
    "\"\"\")\n",
    "\n",
    "# indexed = indexed.drop(\"patient\")\n",
    "# indexed = indexed.drop(\"marital\")\n",
    "# indexed = indexed.drop(\"ethnicity\")\n",
    "# indexed = indexed.drop(\"race\")\n",
    "\n",
    "indexed.show()"
   ]
  },
  {
   "cell_type": "code",
   "execution_count": 3,
   "metadata": {},
   "outputs": [
    {
     "data": {
      "application/vnd.jupyter.widget-view+json": {
       "model_id": "c98bd8b6ff204fbda1966cb512712733",
       "version_major": 2,
       "version_minor": 0
      },
      "text/plain": [
       "VBox()"
      ]
     },
     "metadata": {},
     "output_type": "display_data"
    },
    {
     "data": {
      "application/vnd.jupyter.widget-view+json": {
       "model_id": "",
       "version_major": 2,
       "version_minor": 0
      },
      "text/plain": [
       "FloatProgress(value=0.0, bar_style='info', description='Progress:', layout=Layout(height='25px', width='50%'),…"
      ]
     },
     "metadata": {},
     "output_type": "display_data"
    }
   ],
   "source": [
    "from datetime import datetime\n",
    "from pyspark.sql.functions import udf\n",
    "from pyspark.sql.types import IntegerType\n",
    "\n",
    "# import pyspark.sql.functions as F\n",
    "# import pyspark.sql.types as T\n",
    "# from pyspark.sql.functions import lit, when, col, regexp_extract, datediff\n",
    "\n",
    "today = datetime.today()\n",
    "\n",
    "convert_to_age = udf(lambda birth_date: today.year - birth_date.year, IntegerType())\n",
    "\n",
    "indexed = indexed.withColumn(\"age\", convert_to_age(indexed.birth_date))\n",
    "\n",
    "indexed = indexed.drop(\"birth_date\")\n",
    "   \n",
    "# convert_to_age(\"1974-05-03 00:00:00\")\n",
    "\n",
    "# birth_dates = indexed.select(\"birth_date\").rdd.map(lambda birth_date: convert_to_age(birth_date))\n",
    "\n",
    "# birth_dates.take(5)\n",
    "\n",
    "# the with column needs a column as its second argument\n",
    "# this can be return through a udf \n",
    "\n",
    "\n",
    "    \n",
    "\n",
    "\n",
    "# my_udf = F.UserDefinedFunction(convert_to_age, T.DateType())\n",
    "\n",
    "# indexed = indexed.withColumn('age', my_udf('birth_date'))\n",
    "\n",
    "# indexed.withColumn('test', datediff(str(today), lit(indexed.birth_date))/365).show()\n",
    "\n",
    "\n",
    "\n",
    "\n",
    "# type(indexed.select(\"birth_date\").rdd.map(lambda birth_date: today.year - birth_date[0].year))\n",
    "\n",
    "# indexed.show()"
   ]
  },
  {
   "cell_type": "code",
   "execution_count": 4,
   "metadata": {},
   "outputs": [
    {
     "data": {
      "application/vnd.jupyter.widget-view+json": {
       "model_id": "9837a47e07594352a086b231808a5b53",
       "version_major": 2,
       "version_minor": 0
      },
      "text/plain": [
       "VBox()"
      ]
     },
     "metadata": {},
     "output_type": "display_data"
    },
    {
     "data": {
      "application/vnd.jupyter.widget-view+json": {
       "model_id": "",
       "version_major": 2,
       "version_minor": 0
      },
      "text/plain": [
       "FloatProgress(value=0.0, bar_style='info', description='Progress:', layout=Layout(height='25px', width='50%'),…"
      ]
     },
     "metadata": {},
     "output_type": "display_data"
    },
    {
     "name": "stdout",
     "output_type": "stream",
     "text": [
      "+---------------------------------------------+\n",
      "|features                                     |\n",
      "+---------------------------------------------+\n",
      "|[172.3,94.04,31.68,140.0,0.0,3.0,1.0,61.0]   |\n",
      "|[177.38,135.75,43.15,139.0,1.0,1.0,0.0,57.0] |\n",
      "|[163.33,136.74,51.26,143.0,0.0,0.0,0.0,65.0] |\n",
      "|[161.1,72.92,28.1,137.0,0.0,0.0,0.0,81.0]    |\n",
      "|[173.35,105.97,35.27,143.0,1.0,6.0,3.0,62.0] |\n",
      "|[151.11,102.05,44.69,140.0,0.0,9.0,0.0,55.0] |\n",
      "|[169.24,96.32,33.63,140.0,0.0,0.0,0.0,65.0]  |\n",
      "|[157.84,92.49,37.13,142.0,1.0,0.0,0.0,65.0]  |\n",
      "|[185.33,109.37,31.84,143.0,0.0,18.0,0.0,58.0]|\n",
      "|[163.33,100.15,37.54,140.0,1.0,0.0,0.0,50.0] |\n",
      "|[170.46,111.64,38.42,144.0,1.0,0.0,0.0,72.0] |\n",
      "|[170.45,112.29,38.65,144.0,0.0,0.0,0.0,62.0] |\n",
      "|[166.01,92.5,33.56,143.0,1.0,14.0,0.0,59.0]  |\n",
      "|[175.46,92.34,29.99,141.0,0.0,5.0,0.0,68.0]  |\n",
      "|[173.81,108.56,35.93,139.0,1.0,12.0,2.0,71.0]|\n",
      "|[162.92,102.96,38.79,143.0,0.0,1.0,0.0,66.0] |\n",
      "|[166.72,76.58,27.55,139.0,0.0,0.0,0.0,38.0]  |\n",
      "|[181.81,122.25,36.98,142.0,0.0,18.0,0.0,58.0]|\n",
      "|[170.52,96.17,33.08,143.0,0.0,5.0,0.0,70.0]  |\n",
      "|[179.26,107.07,33.32,144.0,0.0,3.0,1.0,46.0] |\n",
      "+---------------------------------------------+\n",
      "only showing top 20 rows"
     ]
    }
   ],
   "source": [
    "from pyspark.ml.feature import VectorAssembler\n",
    "\n",
    "features = [feature for feature in indexed.columns if feature != \"ID\"]\n",
    "# features = ('height', 'weight', 'BMI', 'cholesterol', 'sodium', 'glucose')\n",
    "\n",
    "assembler = VectorAssembler(inputCols=features, outputCol = \"features\")\n",
    "\n",
    "raw_data = assembler.transform(indexed)\n",
    "raw_data.select(\"features\").show(truncate = False)"
   ]
  },
  {
   "cell_type": "code",
   "execution_count": 5,
   "metadata": {},
   "outputs": [
    {
     "data": {
      "application/vnd.jupyter.widget-view+json": {
       "model_id": "db238b7c94364828a49ff92809aa387c",
       "version_major": 2,
       "version_minor": 0
      },
      "text/plain": [
       "VBox()"
      ]
     },
     "metadata": {},
     "output_type": "display_data"
    },
    {
     "data": {
      "application/vnd.jupyter.widget-view+json": {
       "model_id": "",
       "version_major": 2,
       "version_minor": 0
      },
      "text/plain": [
       "FloatProgress(value=0.0, bar_style='info', description='Progress:', layout=Layout(height='25px', width='50%'),…"
      ]
     },
     "metadata": {},
     "output_type": "display_data"
    },
    {
     "name": "stdout",
     "output_type": "stream",
     "text": [
      "+-------------------------------------------------------------------------------------------------------------------------------------+\n",
      "|scaled_features                                                                                                                      |\n",
      "+-------------------------------------------------------------------------------------------------------------------------------------+\n",
      "|[18.81097714552532,5.449289792499681,5.045078238264507,54.406909224147476,0.0,0.5734279758748507,1.105977502549777,4.316379804851266]|\n",
      "+-------------------------------------------------------------------------------------------------------------------------------------+\n",
      "only showing top 1 row"
     ]
    }
   ],
   "source": [
    "# scaling the feature vectors and creating a column with the output\n",
    "from pyspark.ml.feature import StandardScaler\n",
    "\n",
    "standardscaler = StandardScaler().setInputCol(\"features\").setOutputCol(\"scaled_features\")\n",
    "\n",
    "raw_data = standardscaler.fit(raw_data).transform(raw_data)\n",
    "raw_data.select(\"scaled_features\").show(1, truncate = False)"
   ]
  },
  {
   "cell_type": "code",
   "execution_count": 6,
   "metadata": {},
   "outputs": [
    {
     "data": {
      "application/vnd.jupyter.widget-view+json": {
       "model_id": "661ad6001b334485913bc3fb1485aa7b",
       "version_major": 2,
       "version_minor": 0
      },
      "text/plain": [
       "VBox()"
      ]
     },
     "metadata": {},
     "output_type": "display_data"
    },
    {
     "data": {
      "application/vnd.jupyter.widget-view+json": {
       "model_id": "",
       "version_major": 2,
       "version_minor": 0
      },
      "text/plain": [
       "FloatProgress(value=0.0, bar_style='info', description='Progress:', layout=Layout(height='25px', width='50%'),…"
      ]
     },
     "metadata": {},
     "output_type": "display_data"
    },
    {
     "name": "stdout",
     "output_type": "stream",
     "text": [
      "+----------+-----------------+\n",
      "|prediction|count(prediction)|\n",
      "+----------+-----------------+\n",
      "|         1|             8291|\n",
      "|         3|             4841|\n",
      "|         4|             7682|\n",
      "|         2|             4518|\n",
      "|         0|             4952|\n",
      "+----------+-----------------+"
     ]
    }
   ],
   "source": [
    "# training the k-means model using the scaled features column\n",
    "from pyspark.ml.clustering import KMeans\n",
    "\n",
    "kmeans = KMeans(featuresCol = \"scaled_features\").setK(5).setSeed(1)\n",
    "model = kmeans.fit(raw_data)\n",
    "\n",
    "# performing the k-means clustering job\n",
    "predictions = model.transform(raw_data)\n",
    "\n",
    "# listing the number of data points in each cluster\n",
    "clusters = predictions.select(\"prediction\")\n",
    "clusters.groupby(\"prediction\").agg({'prediction': 'count'}).show()"
   ]
  },
  {
   "cell_type": "code",
   "execution_count": 7,
   "metadata": {},
   "outputs": [
    {
     "data": {
      "application/vnd.jupyter.widget-view+json": {
       "model_id": "f4b9d3cff5974f5bb4364516c1b3a89c",
       "version_major": 2,
       "version_minor": 0
      },
      "text/plain": [
       "VBox()"
      ]
     },
     "metadata": {},
     "output_type": "display_data"
    },
    {
     "data": {
      "application/vnd.jupyter.widget-view+json": {
       "model_id": "",
       "version_major": 2,
       "version_minor": 0
      },
      "text/plain": [
       "FloatProgress(value=0.0, bar_style='info', description='Progress:', layout=Layout(height='25px', width='50%'),…"
      ]
     },
     "metadata": {},
     "output_type": "display_data"
    },
    {
     "name": "stdout",
     "output_type": "stream",
     "text": [
      "+----------+-----------------+\n",
      "|prediction|count(prediction)|\n",
      "+----------+-----------------+\n",
      "|         1|             8013|\n",
      "|         3|             3320|\n",
      "|         4|             3649|\n",
      "|         2|             7595|\n",
      "|         0|             7707|\n",
      "+----------+-----------------+"
     ]
    }
   ],
   "source": [
    "# performing a heirarchical clustering job\n",
    "\n",
    "from pyspark.ml.clustering import BisectingKMeans\n",
    "\n",
    "# training the model\n",
    "bkm = BisectingKMeans(featuresCol=\"scaled_features\").setK(5).setSeed(1)\n",
    "model = bkm.fit(raw_data)\n",
    "\n",
    "# creating predictions \n",
    "predictions_b = model.transform(raw_data)\n",
    "\n",
    "# listing the number of points in each cluster\n",
    "cm = predictions_b.select(\"prediction\")\n",
    "cm.groupby(\"prediction\").agg({'prediction': 'count'}).show()"
   ]
  },
  {
   "cell_type": "code",
   "execution_count": 8,
   "metadata": {},
   "outputs": [
    {
     "data": {
      "application/vnd.jupyter.widget-view+json": {
       "model_id": "3985b639f0ec40abae0db76a9378c8f0",
       "version_major": 2,
       "version_minor": 0
      },
      "text/plain": [
       "VBox()"
      ]
     },
     "metadata": {},
     "output_type": "display_data"
    },
    {
     "data": {
      "application/vnd.jupyter.widget-view+json": {
       "model_id": "",
       "version_major": 2,
       "version_minor": 0
      },
      "text/plain": [
       "FloatProgress(value=0.0, bar_style='info', description='Progress:', layout=Layout(height='25px', width='50%'),…"
      ]
     },
     "metadata": {},
     "output_type": "display_data"
    },
    {
     "name": "stdout",
     "output_type": "stream",
     "text": [
      "K-means silhouette with squared euclidean distance = 0.14375978381517615 \n",
      " \n",
      "Hierarchical silhouette with squared euclidean distance = 0.09577782660795764"
     ]
    }
   ],
   "source": [
    "from pyspark.ml.evaluation import ClusteringEvaluator\n",
    "\n",
    "#Evaluate using Silhouette score\n",
    "evaluator = ClusteringEvaluator()\n",
    "\n",
    "silhouette_k = evaluator.evaluate(predictions)\n",
    "silhouette_h = evaluator.evaluate(predictions_b)\n",
    "print(f\"\"\"K-means silhouette with squared euclidean distance = {str(silhouette_k)} \\n \n",
    "Hierarchical silhouette with squared euclidean distance = {str(silhouette_h)}\"\"\")"
   ]
  },
  {
   "cell_type": "code",
   "execution_count": 8,
   "metadata": {},
   "outputs": [
    {
     "data": {
      "application/vnd.jupyter.widget-view+json": {
       "model_id": "d1671ff300ed483c8794d2bb370fda06",
       "version_major": 2,
       "version_minor": 0
      },
      "text/plain": [
       "VBox()"
      ]
     },
     "metadata": {},
     "output_type": "display_data"
    },
    {
     "data": {
      "application/vnd.jupyter.widget-view+json": {
       "model_id": "",
       "version_major": 2,
       "version_minor": 0
      },
      "text/plain": [
       "FloatProgress(value=0.0, bar_style='info', description='Progress:', layout=Layout(height='25px', width='50%'),…"
      ]
     },
     "metadata": {},
     "output_type": "display_data"
    },
    {
     "name": "stderr",
     "output_type": "stream",
     "text": [
      "rows should be an RDD of vectors, got <class 'pyspark.sql.column.Column'>\n",
      "Traceback (most recent call last):\n",
      "  File \"/usr/lib/spark/python/lib/pyspark.zip/pyspark/mllib/linalg/distributed.py\", line 101, in __init__\n",
      "    raise TypeError(\"rows should be an RDD of vectors, got %s\" % type(rows))\n",
      "TypeError: rows should be an RDD of vectors, got <class 'pyspark.sql.column.Column'>\n",
      "\n"
     ]
    }
   ],
   "source": [
    "from pyspark.mllib.linalg.distributed import RowMatrix\n",
    "\n",
    "mat = RowMatrix(predictions.scaled_features, numRows=-1, numCols=-1)\n",
    "\n",
    "# Compute the top 2 principal components.\n",
    "# Principal components are stored in a local dense matrix.\n",
    "pc = mat.computePrincipalComponents(2)\n",
    "\n",
    "# Project the rows to the linear space spanned by the top 2 principal components.\n",
    "# projected = mat.multiply(pc)\n",
    "pc.printSchema()"
   ]
  },
  {
   "cell_type": "code",
   "execution_count": 11,
   "metadata": {},
   "outputs": [
    {
     "data": {
      "application/vnd.jupyter.widget-view+json": {
       "model_id": "a8ead2152e8144039b76c6f233853e20",
       "version_major": 2,
       "version_minor": 0
      },
      "text/plain": [
       "VBox()"
      ]
     },
     "metadata": {},
     "output_type": "display_data"
    },
    {
     "data": {
      "application/vnd.jupyter.widget-view+json": {
       "model_id": "",
       "version_major": 2,
       "version_minor": 0
      },
      "text/plain": [
       "FloatProgress(value=0.0, bar_style='info', description='Progress:', layout=Layout(height='25px', width='50%'),…"
      ]
     },
     "metadata": {},
     "output_type": "display_data"
    },
    {
     "name": "stdout",
     "output_type": "stream",
     "text": [
      "root\n",
      " |-- height: double (nullable = true)\n",
      " |-- weight: double (nullable = true)\n",
      " |-- BMI: double (nullable = true)\n",
      " |-- cholesterol: double (nullable = true)\n",
      " |-- sodium: double (nullable = true)\n",
      " |-- ID: double (nullable = false)\n",
      " |-- indxed_marital: double (nullable = false)\n",
      " |-- indexed_ethnicity: double (nullable = false)\n",
      " |-- indexed_race: double (nullable = false)\n",
      " |-- age: integer (nullable = true)\n",
      " |-- features: vector (nullable = true)\n",
      " |-- scaled_features: vector (nullable = true)\n",
      " |-- prediction: integer (nullable = false)"
     ]
    }
   ],
   "source": [
    "predictions.printSchema()"
   ]
  },
  {
   "cell_type": "code",
   "execution_count": 12,
   "metadata": {},
   "outputs": [
    {
     "data": {
      "application/vnd.jupyter.widget-view+json": {
       "model_id": "52bb672cf842463db525fe178135ca4c",
       "version_major": 2,
       "version_minor": 0
      },
      "text/plain": [
       "VBox()"
      ]
     },
     "metadata": {},
     "output_type": "display_data"
    },
    {
     "data": {
      "application/vnd.jupyter.widget-view+json": {
       "model_id": "",
       "version_major": 2,
       "version_minor": 0
      },
      "text/plain": [
       "FloatProgress(value=0.0, bar_style='info', description='Progress:', layout=Layout(height='25px', width='50%'),…"
      ]
     },
     "metadata": {},
     "output_type": "display_data"
    }
   ],
   "source": [
    "predictions_sample = predictions.sample(False, 0.1, seed=42)\n",
    "predictions_sample.createOrReplaceTempView(\"predictions_sample\")"
   ]
  },
  {
   "cell_type": "code",
   "execution_count": 14,
   "metadata": {},
   "outputs": [
    {
     "data": {
      "application/vnd.jupyter.widget-view+json": {
       "model_id": "",
       "version_major": 2,
       "version_minor": 0
      },
      "text/plain": [
       "FloatProgress(value=0.0, bar_style='info', description='Progress:', layout=Layout(height='25px', width='50%'),…"
      ]
     },
     "metadata": {},
     "output_type": "display_data"
    }
   ],
   "source": [
    "%%sql -q -o sqlResults\n",
    "SELECT scaled_features, prediction\n",
    "FROM predictions_sample"
   ]
  },
  {
   "cell_type": "code",
   "execution_count": 15,
   "metadata": {},
   "outputs": [
    {
     "data": {
      "application/vnd.jupyter.widget-view+json": {
       "model_id": "38931f8149eb456ca62bf4670e6f7835",
       "version_major": 2,
       "version_minor": 0
      },
      "text/plain": [
       "VBox(children=(HBox(children=(HTML(value='Type:'), Button(description='Table', layout=Layout(width='70px'), st…"
      ]
     },
     "metadata": {},
     "output_type": "display_data"
    },
    {
     "data": {
      "application/vnd.jupyter.widget-view+json": {
       "model_id": "5299089de2d34d55bc71e4d433d43f64",
       "version_major": 2,
       "version_minor": 0
      },
      "text/plain": [
       "Output()"
      ]
     },
     "metadata": {},
     "output_type": "display_data"
    }
   ],
   "source": [
    "%%local\n",
    "sqlResults.head()"
   ]
  },
  {
   "cell_type": "code",
   "execution_count": null,
   "metadata": {},
   "outputs": [],
   "source": []
  }
 ],
 "metadata": {
  "kernelspec": {
   "display_name": "PySpark",
   "language": "",
   "name": "pysparkkernel"
  },
  "language_info": {
   "codemirror_mode": {
    "name": "python",
    "version": 2
   },
   "mimetype": "text/x-python",
   "name": "pyspark",
   "pygments_lexer": "python2"
  }
 },
 "nbformat": 4,
 "nbformat_minor": 4
}
